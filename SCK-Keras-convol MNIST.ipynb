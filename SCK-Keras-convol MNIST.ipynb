{
 "cells": [
  {
   "cell_type": "code",
   "execution_count": 2,
   "metadata": {},
   "outputs": [
    {
     "name": "stderr",
     "output_type": "stream",
     "text": [
      "C:\\Users\\Agostino\\Anaconda3\\lib\\site-packages\\h5py\\__init__.py:36: FutureWarning: Conversion of the second argument of issubdtype from `float` to `np.floating` is deprecated. In future, it will be treated as `np.float64 == np.dtype(float).type`.\n",
      "  from ._conv import register_converters as _register_converters\n"
     ]
    }
   ],
   "source": [
    "import tensorflow as tf\n",
    "from tensorflow.keras.datasets import mnist\n",
    "from tensorflow.keras.utils import to_categorical\n",
    "from tensorflow.keras.models import Sequential, load_model\n",
    "from tensorflow.keras.layers import InputLayer, Input\n",
    "from tensorflow.keras.layers import Reshape, MaxPooling2D, Cropping2D\n",
    "from tensorflow.keras.layers import Conv2D, Dense, Flatten, Dropout\n",
    "from tensorflow.keras.optimizers import SGD, Adam\n",
    "from tensorflow.keras.callbacks import TensorBoard"
   ]
  },
  {
   "cell_type": "markdown",
   "metadata": {},
   "source": [
    "### Preprocessing:\n",
    "#### legge i dati, prepara la Y (dummies), normalizza le X"
   ]
  },
  {
   "cell_type": "code",
   "execution_count": 2,
   "metadata": {},
   "outputs": [
    {
     "name": "stdout",
     "output_type": "stream",
     "text": [
      "Dati letti.\n",
      "(60000, 28, 28)\n",
      "(10000, 28, 28)\n"
     ]
    }
   ],
   "source": [
    "# Import MNIST data\n",
    "(X_train, Yt),(X_val,Yv) = mnist.load_data(path=\"mnist.npz\")\n",
    "# trasforma singola colonna Y in 10 dummies binarie\n",
    "Y_val = to_categorical(Yv, num_classes=10)\n",
    "Y_train = to_categorical(Yt, num_classes=10)\n",
    "# normalizza i valori delle immagini\n",
    "X_train = X_train / 255\n",
    "X_val = X_val / 255\n",
    "print(\"Dati letti.\")\n",
    "print(X_train.shape)\n",
    "print(X_val.shape)"
   ]
  },
  {
   "cell_type": "markdown",
   "metadata": {},
   "source": [
    "#### i dati sono già divisi tra training e validation e sono arrays tridimensionali: (N, larghezza, altezza)\n",
    "\n",
    "### Analisi con una rete neurale feedforward\n",
    "### SCIKIT-LEARN  classificatore NN\n",
    "class sklearn.neural_network.MLPClassifier(hidden_layer_sizes=(100, ), activation=’relu’, solver=’adam’, alpha=0.0001, batch_size=’auto’, learning_rate=’constant’, learning_rate_init=0.001, power_t=0.5, max_iter=200, shuffle=True, random_state=None, tol=0.0001, verbose=False, warm_start=False, momentum=0.9, nesterovs_momentum=True, early_stopping=False, validation_fraction=0.1, beta_1=0.9, beta_2=0.999, epsilon=1e-08, n_iter_no_change=10)\n",
    "\n",
    "MLPClassifier supports only the Cross-Entropy loss function / \n",
    "supports multi-class classification by applying Softmax as the output function\n",
    "\n",
    "#### la rete feedforward richiede un input bidimensionale, ossia che ogni immagine sia una riga di 28*28=784 colonne\n",
    "#### trasformo quindi le matrici dei dati"
   ]
  },
  {
   "cell_type": "code",
   "execution_count": 3,
   "metadata": {},
   "outputs": [],
   "source": [
    "import numpy as np\n",
    "XXX =np.reshape(X_train,(60000,784))\n",
    "XVA =np.reshape(X_val,(10000,784))"
   ]
  },
  {
   "cell_type": "markdown",
   "metadata": {},
   "source": [
    "#### definisco una rete con 4 strati interni (784, 512, 200, 200, 30, 10)\n",
    "per impedire l'overfitting ho posto alpha=0.01 e abbassato leggermente beta_1 e beta_2.\n",
    "L'algoritmo continua (fino a 200 iterazioni di default) fino a che la diminuzione della loss ne training non sia almeno tol=0.00001"
   ]
  },
  {
   "cell_type": "code",
   "execution_count": 4,
   "metadata": {},
   "outputs": [
    {
     "data": {
      "text/plain": [
       "MLPClassifier(activation='relu', alpha=0.01, batch_size='auto', beta_1=0.9,\n",
       "       beta_2=0.95, early_stopping=False, epsilon=1e-08,\n",
       "       hidden_layer_sizes=(512, 200, 200, 30), learning_rate='constant',\n",
       "       learning_rate_init=0.001, max_iter=200, momentum=0.9,\n",
       "       nesterovs_momentum=True, power_t=0.5, random_state=1, shuffle=True,\n",
       "       solver='adam', tol=1e-05, validation_fraction=0.1, verbose=False,\n",
       "       warm_start=False)"
      ]
     },
     "execution_count": 4,
     "metadata": {},
     "output_type": "execute_result"
    }
   ],
   "source": [
    "from sklearn.neural_network import MLPClassifier\n",
    "clf = MLPClassifier(solver='adam', alpha=0.01, hidden_layer_sizes=(512,200,200,30), beta_1=0.9,beta_2=0.95,\n",
    "                    tol=0.00001, random_state=1)\n",
    "clf.fit(XXX, Y_train)"
   ]
  },
  {
   "cell_type": "markdown",
   "metadata": {},
   "source": [
    "Il modello utilizza 551.060 parametri: provate a contarli..."
   ]
  },
  {
   "cell_type": "code",
   "execution_count": 5,
   "metadata": {},
   "outputs": [
    {
     "name": "stdout",
     "output_type": "stream",
     "text": [
      "train: 0.9982833333333333\n",
      "test: 0.9797\n"
     ]
    }
   ],
   "source": [
    "print(\"train:\",clf.score(XXX,Y_train))\n",
    "print(\"test:\",clf.score(XVA,Y_val))"
   ]
  },
  {
   "cell_type": "code",
   "execution_count": 6,
   "metadata": {},
   "outputs": [
    {
     "data": {
      "image/png": "[encoded data removed]",
      "text/plain": [
       "<Figure size 720x360 with 1 Axes>"
      ]
     },
     "metadata": {},
     "output_type": "display_data"
    }
   ],
   "source": [
    "# Plot the loss curve for training \n",
    "import matplotlib.pyplot as plt\n",
    "%matplotlib inline\n",
    "fig, ax = plt.subplots(1, 1, figsize=(10, 5))\n",
    "plt.xticks(range(len(clf.loss_curve_)))\n",
    "ax.plot(clf.loss_curve_)\n",
    "plt.xlabel(\"n iteration\")\n",
    "plt.show()"
   ]
  },
  {
   "cell_type": "markdown",
   "metadata": {},
   "source": [
    "Le iterazioni si sono fermate alla 29, quindi non c'è stata riduzione del loss nel training negli ultimi steps\n",
    "- ** attenzione ** non è early stopping, perchè?\n",
    "\n",
    "---\n",
    "## Convolutional Neural Networks\n",
    "#### adesso applicheremo una rete neurale convoluzionale con KERAS/Tensorflow\n",
    "#### Per definire il modello utilizzeremo la sintassi sequenziale\n",
    "In the first layer, you must specify the expected input data shape: non utilizzeremo i datti flattened bensì le arrays originarie, a cui però dovremo aggiungere la dimensione del colore, anche se è solo 1, perché lo strato CONV2D si aspetta delle liste di arrays con dimensione (larghezza, altezza, colori). Il primo strato farà quindi la conversione (Reshape)"
   ]
  },
  {
   "cell_type": "code",
   "execution_count": 3,
   "metadata": {},
   "outputs": [
    {
     "name": "stdout",
     "output_type": "stream",
     "text": [
      "_________________________________________________________________\n",
      "Layer (type)                 Output Shape              Param #   \n",
      "=================================================================\n",
      "reshape (Reshape)            (None, 28, 28, 1)         0         \n",
      "_________________________________________________________________\n",
      "cropping2d (Cropping2D)      (None, 24, 24, 1)         0         \n",
      "_________________________________________________________________\n",
      "conv2d (Conv2D)              (None, 20, 20, 32)        832       \n",
      "_________________________________________________________________\n",
      "max_pooling2d (MaxPooling2D) (None, 10, 10, 32)        0         \n",
      "_________________________________________________________________\n",
      "conv2d_1 (Conv2D)            (None, 6, 6, 64)          51264     \n",
      "_________________________________________________________________\n",
      "max_pooling2d_1 (MaxPooling2 (None, 3, 3, 64)          0         \n",
      "_________________________________________________________________\n",
      "flatten (Flatten)            (None, 576)               0         \n",
      "_________________________________________________________________\n",
      "dense (Dense)                (None, 1024)              590848    \n",
      "_________________________________________________________________\n",
      "dropout (Dropout)            (None, 1024)              0         \n",
      "_________________________________________________________________\n",
      "dense_1 (Dense)              (None, 10)                10250     \n",
      "=================================================================\n",
      "Total params: 653,194\n",
      "Trainable params: 653,194\n",
      "Non-trainable params: 0\n",
      "_________________________________________________________________\n"
     ]
    }
   ],
   "source": [
    "model = Sequential()\n",
    "\n",
    "# This creates a model that includes two convolutional layer two maxpooling layer and two Dense layers\n",
    "# includes cropping and dropout\n",
    "# de-flatt each row\n",
    "model.add(Reshape((28,28,1), input_shape=(28,28)))\n",
    "model.add(Cropping2D(cropping=((2, 2), (2, 2))))\n",
    "model.add(Conv2D(32, (5, 5), activation='relu'))\n",
    "model.add(MaxPooling2D(pool_size=(2, 2)))\n",
    "model.add(Conv2D(64, (5, 5), activation='relu'))\n",
    "model.add(MaxPooling2D(pool_size=(2, 2),strides=(2,2)))\n",
    "model.add(Flatten())\n",
    "model.add(Dense(1024, activation='relu'))\n",
    "model.add(Dropout(0.50))\n",
    "model.add(Dense(10, activation='softmax'))\n",
    "# per vedere il modello che abbiamo definito\n",
    "model.summary()"
   ]
  },
  {
   "cell_type": "markdown",
   "metadata": {},
   "source": [
    "## **Considerazioni:**\n",
    "Il numero di parametri è simile alla rete precedente?\n",
    "* le reti convoluzionali hanno pochi parametri"
   ]
  },
  {
   "cell_type": "markdown",
   "metadata": {},
   "source": [
    "### Scelta dell'algoritmo di ottimizzazione: Adam, che di default ha i seguenti parametri:\n",
    "keras.optimizers.Adam(lr=0.001, beta_1=0.9, beta_2=0.999, epsilon=None, decay=0.0, amsgrad=False)\n",
    "#### Si effettua quindi la compilazione del modello"
   ]
  },
  {
   "cell_type": "code",
   "execution_count": 14,
   "metadata": {},
   "outputs": [],
   "source": [
    "adam1 = Adam(lr=0.001, beta_1=0.9,beta_2=0.990, decay=1e-6, amsgrad=True)\n",
    "model.compile(optimizer=adam1, loss='categorical_crossentropy', metrics=['accuracy'])"
   ]
  },
  {
   "cell_type": "markdown",
   "metadata": {},
   "source": [
    "### use mnist.train to fit the model, test on mnist.test\n",
    "#### abbiamo anche richiesto di registrare le informazioni per Tensorboard"
   ]
  },
  {
   "cell_type": "code",
   "execution_count": 16,
   "metadata": {},
   "outputs": [
    {
     "name": "stdout",
     "output_type": "stream",
     "text": [
      "Train on 60000 samples, validate on 10000 samples\n",
      "Epoch 1/5\n",
      "  256/60000 [..............................] - ETA: 52s - loss: 0.0370 - acc: 0.9922WARNING:tensorflow:Method on_batch_end() is slow compared to the batch update (0.171871). Check your callbacks.\n",
      "  512/60000 [..............................] - ETA: 32s - loss: 0.0260 - acc: 0.9922WARNING:tensorflow:Method on_batch_end() is slow compared to the batch update (0.104437). Check your callbacks.\n",
      "60000/60000 [==============================] - 19s 315us/step - loss: 0.0191 - acc: 0.9939 - val_loss: 0.0214 - val_acc: 0.9925\n",
      "Epoch 2/5\n",
      "60000/60000 [==============================] - 17s 289us/step - loss: 0.0140 - acc: 0.9958 - val_loss: 0.0199 - val_acc: 0.9933\n",
      "Epoch 3/5\n",
      "60000/60000 [==============================] - 16s 273us/step - loss: 0.0107 - acc: 0.9965 - val_loss: 0.0193 - val_acc: 0.9936\n",
      "Epoch 4/5\n",
      "60000/60000 [==============================] - 17s 287us/step - loss: 0.0092 - acc: 0.9971 - val_loss: 0.0197 - val_acc: 0.9929\n",
      "Epoch 5/5\n",
      "60000/60000 [==============================] - 18s 297us/step - loss: 0.0073 - acc: 0.9976 - val_loss: 0.0221 - val_acc: 0.9939\n"
     ]
    },
    {
     "data": {
      "text/plain": [
       "<tensorflow.python.keras.callbacks.History at 0x20433fe5b00>"
      ]
     },
     "execution_count": 16,
     "metadata": {},
     "output_type": "execute_result"
    }
   ],
   "source": [
    "tensorboard = TensorBoard(log_dir='log/run2', histogram_freq=5, write_graph=False, write_images=False)\n",
    "model.fit(X_train, Y_train, epochs=5, validation_data=(X_val, Y_val),initial_epoch=0,\n",
    "          batch_size=256, callbacks=[tensorboard])"
   ]
  },
  {
   "cell_type": "markdown",
   "metadata": {},
   "source": [
    "#### commento:\n",
    "Ad ogni **epoca** viene riportato il tempo impiegato, il loss e l'accuratezza sul training e sul test (validation), che possiamo comunque ricalcolare:"
   ]
  },
  {
   "cell_type": "code",
   "execution_count": 24,
   "metadata": {},
   "outputs": [
    {
     "name": "stdout",
     "output_type": "stream",
     "text": [
      "10000/10000 [==============================] - 7s 731us/step\n",
      "[0.022101112502216712, 0.9939]\n",
      "[[ 975    0    0    0    0    0    2    1    2    0]\n",
      " [   0 1130    0    0    0    1    1    1    1    1]\n",
      " [   0    0 1024    1    1    0    0    6    0    0]\n",
      " [   0    0    0 1004    0    5    0    0    0    1]\n",
      " [   0    0    0    0  975    0    2    0    0    5]\n",
      " [   0    0    0    2    0  887    1    2    0    0]\n",
      " [   1    1    0    0    1    1  954    0    0    0]\n",
      " [   0    2    0    1    0    0    0 1021    1    3]\n",
      " [   0    0    0    1    0    0    1    0  970    2]\n",
      " [   1    0    0    0    3    4    0    0    2  999]]\n"
     ]
    }
   ],
   "source": [
    "# evaluate the final model on test images\n",
    "score = model.evaluate(X_val, Y_val, batch_size=128)\n",
    "print(score)\n",
    "yyy = model.predict(X_val,  batch_size=128)\n",
    "from sklearn.metrics import confusion_matrix\n",
    "ystim = np.argmax(yyy,axis=1)\n",
    "print(confusion_matrix(Yv,ystim))"
   ]
  },
  {
   "cell_type": "markdown",
   "metadata": {},
   "source": [
    "#### Expected accuracy on test set:  0.9944,      error rate %: 0.56\n",
    "(with 100 epochs)"
   ]
  },
  {
   "cell_type": "code",
   "execution_count": 6,
   "metadata": {},
   "outputs": [],
   "source": [
    "# save the fitted model\n",
    "model.save(\"mnistmodel.h5\")"
   ]
  },
  {
   "cell_type": "markdown",
   "metadata": {},
   "source": [
    "### load a previously saved model and make again the predictions"
   ]
  },
  {
   "cell_type": "code",
   "execution_count": null,
   "metadata": {},
   "outputs": [],
   "source": [
    "model2 = load_model(\"mnistmodel.h5\")\n",
    "yyy = model2.predict(X_val,  batch_size=128)\n",
    "score = model2.evaluate(X_val, Y_val, batch_size=128)\n",
    "print(score)"
   ]
  },
  {
   "cell_type": "code",
   "execution_count": null,
   "metadata": {},
   "outputs": [],
   "source": []
  }
 ],
 "metadata": {
  "kernelspec": {
   "display_name": "Python 3",
   "language": "python",
   "name": "python3"
  },
  "language_info": {
   "codemirror_mode": {
    "name": "ipython",
    "version": 3
   },
   "file_extension": ".py",
   "mimetype": "text/x-python",
   "name": "python",
   "nbconvert_exporter": "python",
   "pygments_lexer": "ipython3",
   "version": "3.6.8"
  },
  "varInspector": {
   "cols": {
    "lenName": 16,
    "lenType": 16,
    "lenVar": 40
   },
   "kernels_config": {
    "python": {
     "delete_cmd_postfix": "",
     "delete_cmd_prefix": "del ",
     "library": "var_list.py",
     "varRefreshCmd": "print(var_dic_list())"
    },
    "r": {
     "delete_cmd_postfix": ") ",
     "delete_cmd_prefix": "rm(",
     "library": "var_list.r",
     "varRefreshCmd": "cat(var_dic_list()) "
    }
   },
   "types_to_exclude": [
    "module",
    "function",
    "builtin_function_or_method",
    "instance",
    "_Feature"
   ],
   "window_display": false
  }
 },
 "nbformat": 4,
 "nbformat_minor": 2
}
